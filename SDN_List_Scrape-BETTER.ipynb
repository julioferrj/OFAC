{
 "cells": [
  {
   "cell_type": "code",
   "execution_count": 285,
   "metadata": {},
   "outputs": [],
   "source": [
    "import requests\n",
    "import pandas as pd\n",
    "import datetime\n",
    "from statistics import mean, median, mode\n",
    "import sqlite3"
   ]
  },
  {
   "cell_type": "code",
   "execution_count": 286,
   "metadata": {},
   "outputs": [],
   "source": [
    "# I THINK I WILL RE-FIX THIS SCRIPT TO USE THE PIPE-DELIMITED SDN LIST\n",
    "# Here's the url - https://www.treasury.gov/ofac/downloads/sdn.pip\n",
    "r = requests.get('https://www.treasury.gov/ofac/downloads/sdn.del')"
   ]
  },
  {
   "cell_type": "code",
   "execution_count": 287,
   "metadata": {},
   "outputs": [],
   "source": [
    "lines = str(r.text).split(\"\\r\\n\")"
   ]
  },
  {
   "cell_type": "code",
   "execution_count": 288,
   "metadata": {},
   "outputs": [],
   "source": [
    "matrix = []\n",
    "for line in lines:\n",
    "    entry = line.split(\"@\")\n",
    "    matrix.append(entry)"
   ]
  },
  {
   "cell_type": "code",
   "execution_count": 289,
   "metadata": {},
   "outputs": [],
   "source": [
    "ind = []\n",
    "corp = []"
   ]
  },
  {
   "cell_type": "code",
   "execution_count": 290,
   "metadata": {},
   "outputs": [],
   "source": [
    "count = 0\n",
    "while count < len(matrix):\n",
    "    if len(matrix[count]) > 1:\n",
    "        if matrix[count][2] == '\"individual\"':\n",
    "            ind.append(matrix[count])\n",
    "        else:\n",
    "            corp.append(matrix[count])\n",
    "    count += 1"
   ]
  },
  {
   "cell_type": "code",
   "execution_count": 291,
   "metadata": {},
   "outputs": [],
   "source": [
    "f_ind = [] # f for final list for ind\n",
    "for entry in ind:\n",
    "    if len(entry) > 1:\n",
    "        if len(entry) == 12:\n",
    "            try:\n",
    "                last_name = entry[1].split(',')[0].strip('\"')\n",
    "                first_name = entry[1].split(',')[1].strip('\"')\n",
    "            except IndexError as e:\n",
    "                last_name = entry[1].split(',')[0].strip('\"')\n",
    "                first_name = \"\"\n",
    "            f_ind.append([\n",
    "                int(entry[0]), \n",
    "                last_name,\n",
    "                first_name[1:],\n",
    "                entry[2].strip('\"'),\n",
    "                entry[3].strip('\"'),\n",
    "                entry[4].strip('\"'),\n",
    "                entry[11].strip('\"')\n",
    "            ])\n",
    "            \n",
    "        else:\n",
    "            try:\n",
    "                last_name = entry[1].split(',')[0].strip('\"')\n",
    "                first_name = entry[1].split(',')[1].strip('\"')\n",
    "            except IndexError as e:\n",
    "                last_name = entry[1].split(',')[0].strip('\"')\n",
    "                first_name = \"\"\n",
    "            ent_11 = str()\n",
    "            count = 11\n",
    "            while count < len(entry):\n",
    "                ent_11 = ent_11 + \"@\" + str(entry[count]) \n",
    "                count += 1\n",
    "            f_ind.append([\n",
    "                int(entry[0]), \n",
    "                last_name,\n",
    "                first_name[1:],\n",
    "                entry[2].strip('\"'),\n",
    "                entry[3].strip('\"'),\n",
    "                entry[4].strip('\"'),\n",
    "                ent_11[2:].strip('\"')\n",
    "            ])"
   ]
  },
  {
   "cell_type": "code",
   "execution_count": 292,
   "metadata": {},
   "outputs": [],
   "source": [
    "f_corp = [] # f for final list for corp\n",
    "for entry in corp:\n",
    "    if len(entry) > 1:\n",
    "        if len(entry) == 12:\n",
    "            f_corp.append([\n",
    "                int(entry[0]), \n",
    "                entry[1].strip('\"'),\n",
    "                entry[2].strip('\"'),\n",
    "                entry[3].strip('\"'),\n",
    "                entry[11].strip('\"')\n",
    "            ])\n",
    "            \n",
    "        else:\n",
    "            ent_11 = str()\n",
    "            count = 11\n",
    "            while count < len(entry):\n",
    "                ent_11 = ent_11 + \"@\" + str(entry[count]) \n",
    "                count += 1\n",
    "            f_corp.append([\n",
    "                int(entry[0]), \n",
    "                entry[1].strip('\"'),\n",
    "                entry[2].strip('\"'),\n",
    "                entry[3].strip('\"'),\n",
    "                ent_11[2:].strip('\"')\n",
    "            ])"
   ]
  },
  {
   "cell_type": "code",
   "execution_count": 293,
   "metadata": {},
   "outputs": [],
   "source": [
    "df_ind = pd.DataFrame(f_ind, columns=[\"#\", \"Last Name\", \"First Name\", \"Ind/Entity\", \"Global Tag\", \"Note\", \"Extra\"])"
   ]
  },
  {
   "cell_type": "code",
   "execution_count": 294,
   "metadata": {},
   "outputs": [],
   "source": [
    "df_corp = pd.DataFrame(f_corp, columns=[\"#\", \"Name\", \"Type\", \"Country\", \"Extra\"])"
   ]
  },
  {
   "cell_type": "code",
   "execution_count": 295,
   "metadata": {},
   "outputs": [],
   "source": [
    "conn = sqlite3.connect('SDN_List.db')\n",
    "c = conn.cursor()\n",
    " \n",
    "def create_table_IND():\n",
    "    c.execute('''CREATE TABLE IF NOT EXISTS SDNindividual(num INTEGER, lastname VARCHAR, \n",
    "                                                          firstname VARCHAR, globaltag VARCHAR,\n",
    "                                                          note TEXT, extra TEXT)\n",
    "              ''')\n",
    "def create_table_CORP():\n",
    "    c.execute('''CREATE TABLE IF NOT EXISTS SDNcorporation(num INTEGER, name VARCHAR, \n",
    "                                                          type VARCHAR, country VARCHAR,\n",
    "                                                          extra TEXT)\n",
    "              ''')"
   ]
  },
  {
   "cell_type": "code",
   "execution_count": 298,
   "metadata": {},
   "outputs": [],
   "source": [
    "def ind_entry(df_ind):\n",
    "    count = 0\n",
    "    while count < len(df_ind):\n",
    "        c.execute('''INSERT OR IGNORE INTO SDNindividual(num, lastname, firstname, globaltag, note, extra) \n",
    "                     VALUES(?, ?, ?, ?, ?, ?)''',\n",
    "              (df_ind['#'][count], df_ind['Last Name'][count], df_ind['First Name'][count], \n",
    "               df_ind['Global Tag'][count], df_ind['Note'][count], df_ind['Extra'][count]))\n",
    "        conn.commit()\n",
    "        count += 1\n",
    "def corp_entry(df_corp):\n",
    "    count = 0\n",
    "    while count < len(df_corp):\n",
    "        c.execute('''INSERT OR IGNORE INTO SDNcorporation(num, name, type, country, extra) \n",
    "                     VALUES(?, ?, ?, ?, ?)''',\n",
    "              (df_corp['#'][count], df_corp['Name'][count], df_corp['Type'][count],\n",
    "               df_corp['Country'][count], df_corp['Extra'][count]))\n",
    "        conn.commit()\n",
    "        count += 1"
   ]
  },
  {
   "cell_type": "code",
   "execution_count": 299,
   "metadata": {},
   "outputs": [],
   "source": [
    "create_table_IND()\n",
    "ind_entry(df_ind)"
   ]
  },
  {
   "cell_type": "code",
   "execution_count": 300,
   "metadata": {},
   "outputs": [],
   "source": [
    "create_table_CORP()\n",
    "corp_entry(df_corp)"
   ]
  },
  {
   "cell_type": "code",
   "execution_count": 301,
   "metadata": {},
   "outputs": [
    {
     "data": {
      "text/plain": [
       "\"\\ndate = str(datetime.date.today())\\ncsv_ind = 'OFAC_INDIV_MATRIX_' + date + '.csv'\\ncsv_corp = 'OFAC_CORP_MATRIX_' + date + '.csv'\\n\""
      ]
     },
     "execution_count": 301,
     "metadata": {},
     "output_type": "execute_result"
    }
   ],
   "source": [
    "# IF NOT SQLITE DB - YOU CAN USE CSV EXPORT - UNCOMMENT BELOW\n",
    "'''\n",
    "date = str(datetime.date.today())\n",
    "csv_ind = 'OFAC_INDIV_MATRIX_' + date + '.csv'\n",
    "csv_corp = 'OFAC_CORP_MATRIX_' + date + '.csv'\n",
    "csv1 = df_ind.to_csv(csv_ind, index=False)\n",
    "csv2 = df_corp.to_csv(csv_corp, index=False)\n",
    "'''"
   ]
  }
 ],
 "metadata": {
  "kernelspec": {
   "display_name": "Python 3",
   "language": "python",
   "name": "python3"
  },
  "language_info": {
   "codemirror_mode": {
    "name": "ipython",
    "version": 3
   },
   "file_extension": ".py",
   "mimetype": "text/x-python",
   "name": "python",
   "nbconvert_exporter": "python",
   "pygments_lexer": "ipython3",
   "version": "3.7.2"
  }
 },
 "nbformat": 4,
 "nbformat_minor": 2
}
