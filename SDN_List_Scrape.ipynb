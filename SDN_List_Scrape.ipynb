{
 "cells": [
  {
   "cell_type": "code",
   "execution_count": 161,
   "metadata": {},
   "outputs": [],
   "source": [
    "import requests\n",
    "import pandas as pd\n",
    "import datetime"
   ]
  },
  {
   "cell_type": "code",
   "execution_count": 162,
   "metadata": {},
   "outputs": [],
   "source": [
    "r = requests.get('https://www.treasury.gov/ofac/downloads/sdn.csv')"
   ]
  },
  {
   "cell_type": "code",
   "execution_count": 163,
   "metadata": {},
   "outputs": [],
   "source": [
    "items = str(r.text).split(\"\\r\\n\")"
   ]
  },
  {
   "cell_type": "code",
   "execution_count": 164,
   "metadata": {},
   "outputs": [],
   "source": [
    "ind = []\n",
    "corp = []"
   ]
  },
  {
   "cell_type": "code",
   "execution_count": 165,
   "metadata": {},
   "outputs": [],
   "source": [
    "count = 0\n",
    "while count < len(items):\n",
    "    a = items[count].split(\",\")\n",
    "    if len(a) > 1:\n",
    "        if a[3] == '\"individual\"':\n",
    "            DOB = \"\"\n",
    "            if \"DOB\" in items[count]:\n",
    "                DOB = items[count][items[count].find(\"DOB\"):].split(\";\")[0]\n",
    "            ind.append(\n",
    "            [a[0], a[1].strip('\"'), a[2].strip('\"'), a[3].strip('\"'), \n",
    "             a[4].strip('\"'), a[5].strip('\"'), a[6].strip('\"'), DOB]\n",
    "            )\n",
    "        elif a[2] == '\"individual\"':\n",
    "            DOB = \"\"\n",
    "            if \"DOB\" in items[count]:\n",
    "                DOB = items[count][items[count].find(\"DOB\"):].split(\";\")[0]\n",
    "            ind.append(\n",
    "            [a[0], a[1].strip('\"'), '', a[2].strip('\"'), a[3].strip('\"'), \n",
    "             a[4].strip('\"'), a[5].strip('\"'), DOB]\n",
    "            )\n",
    "        else:\n",
    "            corp.append(\n",
    "            [a[0], a[1].strip('\"'), a[2].strip('\"'), \n",
    "             a[3].strip('\"'), a[4].strip('\"'), a[len(a)-1].strip('\"')])\n",
    "    count += 1"
   ]
  },
  {
   "cell_type": "code",
   "execution_count": 166,
   "metadata": {},
   "outputs": [],
   "source": [
    "df_ind = pd.DataFrame(ind, columns=['ID', 'LAST NAME', 'FIRST NAME', 'TYPE', 'COUNTRY', \n",
    "                                    'POSITION/TITLE1', 'POSITION/TITLE2', 'DOB'])"
   ]
  },
  {
   "cell_type": "code",
   "execution_count": 167,
   "metadata": {},
   "outputs": [],
   "source": [
    "df_corp = pd.DataFrame(corp, columns=['ID', 'ENTITY NAME', '2', 'COUNTRY', 'COUNTRY_2', 'INFO'])"
   ]
  },
  {
   "cell_type": "code",
   "execution_count": 168,
   "metadata": {},
   "outputs": [],
   "source": [
    "date = str(datetime.date.today())\n",
    "csv_ind = 'OFAC_INDIV_MATRIX_' + date + '.csv'\n",
    "csv_corp = 'OFAC_CORP_MATRIX_' + date + '.csv'"
   ]
  },
  {
   "cell_type": "code",
   "execution_count": 169,
   "metadata": {},
   "outputs": [],
   "source": [
    "csv1 = df_ind.to_csv(csv_ind, index=False)\n",
    "csv2 = df_corp.to_csv(csv_corp, index=False)"
   ]
  }
 ],
 "metadata": {
  "kernelspec": {
   "display_name": "Python 3",
   "language": "python",
   "name": "python3"
  },
  "language_info": {
   "codemirror_mode": {
    "name": "ipython",
    "version": 3
   },
   "file_extension": ".py",
   "mimetype": "text/x-python",
   "name": "python",
   "nbconvert_exporter": "python",
   "pygments_lexer": "ipython3",
   "version": "3.7.2"
  }
 },
 "nbformat": 4,
 "nbformat_minor": 2
}
