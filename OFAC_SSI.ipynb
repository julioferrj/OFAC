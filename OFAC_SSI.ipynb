{
 "cells": [
  {
   "cell_type": "code",
   "execution_count": 317,
   "metadata": {},
   "outputs": [],
   "source": [
    "import requests\n",
    "import pandas as pd\n",
    "import datetime\n",
    "import sqlite3\n",
    "import json"
   ]
  },
  {
   "cell_type": "code",
   "execution_count": 304,
   "metadata": {},
   "outputs": [],
   "source": [
    "from statistics import mean, median, mode"
   ]
  },
  {
   "cell_type": "code",
   "execution_count": 305,
   "metadata": {},
   "outputs": [],
   "source": [
    "# OFAC publishes a list of Sectoral Sanctions Identifications (SSI), \n",
    "# which lists persons, companies, and entities in sectors of the Russian economy \n",
    "# (especially energy, finance, and armaments), prohibiting certain types of activity with these \n",
    "# individuals or entities by United States persons, wherever located."
   ]
  },
  {
   "cell_type": "code",
   "execution_count": 306,
   "metadata": {},
   "outputs": [],
   "source": [
    "r = requests.get('https://www.treasury.gov/ofac/downloads/ssi/ssilist.txt')"
   ]
  },
  {
   "cell_type": "code",
   "execution_count": 307,
   "metadata": {},
   "outputs": [],
   "source": [
    "lines = str(r.text).split(\"\\n\")"
   ]
  },
  {
   "cell_type": "code",
   "execution_count": 308,
   "metadata": {},
   "outputs": [],
   "source": [
    "f_list = []\n",
    "entry_list = []"
   ]
  },
  {
   "cell_type": "code",
   "execution_count": 309,
   "metadata": {},
   "outputs": [],
   "source": [
    "for line in lines:\n",
    "    if line != '':\n",
    "        entry_list.append(line)        \n",
    "    else:\n",
    "        f_list.append(entry_list)\n",
    "        entry_list = []"
   ]
  },
  {
   "cell_type": "code",
   "execution_count": 310,
   "metadata": {},
   "outputs": [],
   "source": [
    "count = 1\n",
    "ff_list = []"
   ]
  },
  {
   "cell_type": "code",
   "execution_count": 311,
   "metadata": {},
   "outputs": [],
   "source": [
    "while count < len(f_list):\n",
    "    if len(f_list[count]) == 1:\n",
    "        if count == len(f_list) - 2:\n",
    "            break\n",
    "        count += 2\n",
    "    ff_list.append(f_list[count])\n",
    "    count += 1"
   ]
  },
  {
   "cell_type": "code",
   "execution_count": 312,
   "metadata": {},
   "outputs": [],
   "source": [
    "fff_list = []\n",
    "for lines in ff_list:\n",
    "    s = str()\n",
    "    for line in lines:\n",
    "        if 'http://' in line:\n",
    "            s += line\n",
    "        elif 'https://' in line:\n",
    "            s += line\n",
    "        elif 'center/' in line:\n",
    "            s += line\n",
    "        else: \n",
    "            s += (line + ' ')\n",
    "    fff_list.append(s)"
   ]
  },
  {
   "cell_type": "code",
   "execution_count": 392,
   "metadata": {},
   "outputs": [],
   "source": [
    "ffff_list = []\n",
    "ffff_list_other = []\n",
    "for entry in fff_list:\n",
    "    l = []\n",
    "    entry = entry.split(';')\n",
    "    if '(' in entry[0]:\n",
    "        # if the 0 item of the list has any a.k.a.'s at all\n",
    "        if ')' not in entry[0]:\n",
    "            # if the 0 item of the list has only an open parenthesis and no close\n",
    "            # then follow this logic, which will assume a.k.a.'s exist on multiple items\n",
    "            a = entry[0].split('(')\n",
    "            # split from the '(' open parenthisis to create [0] item for name, and [1] item for first a.k.a.\n",
    "            l.append(a[0].rstrip())\n",
    "            l.append(a[1].rstrip())\n",
    "        count = 1\n",
    "        count_copy = 1 # will use this to keep track of where we are within the entry later on\n",
    "        while count < len(entry):\n",
    "            if 'a.k.a.' in entry[count]:\n",
    "                if ')' not in entry[count]:\n",
    "                    # check to see if the line is not the final a.k.a.\n",
    "                    l.append(entry[count][1:])\n",
    "                elif '),' in entry[count]:\n",
    "                    # check to see if the line is the final a.k.a.\n",
    "                    # if so, split on the close parenthesis to create [0] for final a.k.a., and [1] for address\n",
    "                    a = entry[count].split('),')\n",
    "                    l.append(a[0][1:])\n",
    "                    l.append(a[1][1:])\n",
    "                    count_copy = count + 1 # using count_copy to ensure we can append the rest of the info from entry\n",
    "                    break\n",
    "            else:\n",
    "                count_copy = count + 1\n",
    "                break\n",
    "            count += 1\n",
    "        while count_copy < len(entry):\n",
    "            # the rest of the lines are straightforward, and we will just append them\n",
    "            l.append(entry[count_copy][1:].rstrip())\n",
    "            count_copy += 1\n",
    "        ffff_list.append(l)\n",
    "    else:\n",
    "        l = []\n",
    "        count = 0\n",
    "        while count < len(entry):\n",
    "            if count == 0:\n",
    "                l.append(entry[count])\n",
    "            else:\n",
    "                l.append(entry[count][1:].rstrip())\n",
    "            count += 1\n",
    "        ffff_list_other.append(l)"
   ]
  },
  {
   "cell_type": "code",
   "execution_count": 393,
   "metadata": {},
   "outputs": [
    {
     "data": {
      "text/plain": [
       "['BOM FINANCE LTD, 2nd Floor Vanterpool Plaza, Wickhams Cay 1, Road Town, Virgin Islands, British',\n",
       " 'Executive Order 13662 Directive Determination - Subject to Directive 1',\n",
       " 'For more information on directives, please visit the following link: https://www.treasury.gov/resource-center/sanctions/Programs/Pages/ukraine.aspx#directives [UKRAINE-EO13662] (Linked To: BANK OF MOSCOW).']"
      ]
     },
     "execution_count": 393,
     "metadata": {},
     "output_type": "execute_result"
    }
   ],
   "source": [
    "ffff_list_other[1]"
   ]
  },
  {
   "cell_type": "code",
   "execution_count": 394,
   "metadata": {},
   "outputs": [
    {
     "data": {
      "text/plain": [
       "['AGROKREDIT-INFORM, AO',\n",
       " \"a.k.a. AKTSIONERNOE OBSHCHESTVO 'AGROKREDIT- INFORM'\",\n",
       " \"a.k.a. CLOSED JOINT-STOCK COMPANY 'AGROCREDIT-INFORM'\",\n",
       " '3 per. Gagarinski, Moscow 119034, Russia',\n",
       " '3 Gagarinsky Pereulok, Moscow, Russia',\n",
       " 'Executive Order 13662 Directive Determination - Subject to Directive 1',\n",
       " 'Registration ID 1087746334400',\n",
       " 'Tax ID No. 7704681172',\n",
       " 'Government Gazette Number 85651516',\n",
       " 'For more information on directives, please visit the following link: http://www.treasury.gov/resource-center/sanctions/Programs/Pages/ukraine.aspx#directives. [UKRAINE-EO13662] (Linked To: RUSSIAN AGRICULTURAL BANK).']"
      ]
     },
     "execution_count": 394,
     "metadata": {},
     "output_type": "execute_result"
    }
   ],
   "source": [
    "ffff_list[1]"
   ]
  },
  {
   "cell_type": "code",
   "execution_count": null,
   "metadata": {},
   "outputs": [],
   "source": []
  }
 ],
 "metadata": {
  "kernelspec": {
   "display_name": "Python 3",
   "language": "python",
   "name": "python3"
  },
  "language_info": {
   "codemirror_mode": {
    "name": "ipython",
    "version": 3
   },
   "file_extension": ".py",
   "mimetype": "text/x-python",
   "name": "python",
   "nbconvert_exporter": "python",
   "pygments_lexer": "ipython3",
   "version": "3.8.0"
  }
 },
 "nbformat": 4,
 "nbformat_minor": 2
}
